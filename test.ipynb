{
  "nbformat": 4,
  "nbformat_minor": 0,
  "metadata": {
    "colab": {
      "private_outputs": true,
      "provenance": [],
      "toc_visible": true,
      "authorship_tag": "ABX9TyN28cYsqDrB92VkzTaHwZcy",
      "include_colab_link": true
    },
    "kernelspec": {
      "name": "python3",
      "display_name": "Python 3"
    },
    "language_info": {
      "name": "python"
    }
  },
  "cells": [
    {
      "cell_type": "markdown",
      "metadata": {
        "id": "view-in-github",
        "colab_type": "text"
      },
      "source": [
        "<a href=\"https://colab.research.google.com/github/rawanaziz/ANN-Regression-International-Football-Results-/blob/main/test.ipynb\" target=\"_parent\"><img src=\"https://colab.research.google.com/assets/colab-badge.svg\" alt=\"Open In Colab\"/></a>"
      ]
    },
    {
      "cell_type": "code",
      "execution_count": null,
      "metadata": {
        "id": "59lXe8YIEZwY"
      },
      "outputs": [],
      "source": [
        "import pandas as pd\n",
        "import matplotlib.pyplot as plt\n",
        "import seaborn as sns\n",
        "import numpy as np\n",
        "\n",
        "from sklearn.model_selection import train_test_split\n",
        "from sklearn.metrics import mean_absolute_error, mean_squared_error\n",
        "from sklearn.preprocessing import StandardScaler\n",
        "# This is for regression\n",
        "from sklearn.linear_model import LinearRegression\n",
        "from sklearn.tree import DecisionTreeRegressor\n",
        "\n",
        "\n",
        "\n",
        "\n",
        "#https://archive.ics.uci.edu/dataset/9/auto+mpg"
      ]
    },
    {
      "cell_type": "code",
      "source": [
        "pip install ucimlrepo"
      ],
      "metadata": {
        "id": "8SVaF5YV-YUK"
      },
      "execution_count": null,
      "outputs": []
    },
    {
      "cell_type": "code",
      "source": [
        "from ucimlrepo import fetch_ucirepo\n",
        "\n",
        "# fetch dataset\n",
        "auto_mpg = fetch_ucirepo(id=9)\n",
        "\n",
        "# data (as pandas dataframes)\n",
        "X = auto_mpg.data.features\n",
        "y = auto_mpg.data.targets\n",
        "\n",
        "# metadata\n",
        "print(auto_mpg.metadata)\n",
        "\n",
        "# variable information\n",
        "print(auto_mpg.variables)\n",
        "\n"
      ],
      "metadata": {
        "id": "esLfNaqP-b5b"
      },
      "execution_count": null,
      "outputs": []
    },
    {
      "cell_type": "code",
      "source": [
        "X"
      ],
      "metadata": {
        "id": "s7q1wMpE_MoK"
      },
      "execution_count": null,
      "outputs": []
    },
    {
      "cell_type": "code",
      "source": [
        "X.isna().sum()"
      ],
      "metadata": {
        "id": "6JL9-UmdAtPL"
      },
      "execution_count": null,
      "outputs": []
    },
    {
      "cell_type": "code",
      "source": [
        "X[\"horsepower\"]=X[\"horsepower\"].fillna(X[\"horsepower\"].mean())"
      ],
      "metadata": {
        "id": "6Ctw-1Z3AycD"
      },
      "execution_count": null,
      "outputs": []
    },
    {
      "cell_type": "code",
      "source": [
        "y"
      ],
      "metadata": {
        "id": "LIb-Lw7W_S4r"
      },
      "execution_count": null,
      "outputs": []
    },
    {
      "cell_type": "code",
      "source": [
        "\n",
        "from sklearn.model_selection import train_test_split\n",
        "# Train test split\n",
        "X_train, X_test, y_train, y_test = train_test_split(X, y, random_state=42)"
      ],
      "metadata": {
        "id": "GfaZjFsI-jFq"
      },
      "execution_count": null,
      "outputs": []
    },
    {
      "cell_type": "code",
      "source": [
        "# Instantiate Standard Scaler\n",
        "from sklearn.preprocessing import StandardScaler\n",
        "scaler = StandardScaler()\n",
        "# Fit & transform data.\n",
        "X_train= scaler.fit_transform(X_train)\n",
        "X_test= scaler.transform(X_test)"
      ],
      "metadata": {
        "id": "mzJla_ML-1ez"
      },
      "execution_count": null,
      "outputs": []
    },
    {
      "cell_type": "code",
      "source": [
        "reg_tree = DecisionTreeRegressor(random_state = 0, max_depth= 4, criterion= 'squared_error')\n",
        "reg_tree.fit(X_train, y_train)\n",
        "\n",
        "preds_tree = reg_tree.predict(X_test)\n",
        "\n",
        "mean_absolute_error(y_true=y_test, y_pred=preds_tree)\n",
        "mean_squared_error(y_true=y_test, y_pred=preds_tree)"
      ],
      "metadata": {
        "id": "dRF111vT_LS8"
      },
      "execution_count": null,
      "outputs": []
    },
    {
      "cell_type": "code",
      "source": [
        "# Create a linear regression model to compare with the decision tree model\n",
        "\n",
        "reg_lin = LinearRegression()\n",
        "reg_lin.fit(X_train, y_train)\n",
        "\n",
        "preds_lin = reg_lin.predict(X_test)\n",
        "mean_absolute_error(y_true=y_test, y_pred=preds_lin)"
      ],
      "metadata": {
        "id": "t_GFReYXADDK"
      },
      "execution_count": null,
      "outputs": []
    },
    {
      "cell_type": "code",
      "source": [
        "from sklearn.neighbors import KNeighborsRegressor\n",
        "\n",
        "# Create a KNN Regression model\n",
        "knn = KNeighborsRegressor(n_neighbors=5)  # You can adjust the number of neighbors (n_neighbors) as needed\n",
        "\n",
        "# Fit the KNN model on the training data\n",
        "knn.fit(X_train, y_train)\n",
        "\n",
        "# Make predictions on the test data\n",
        "preds_knn = knn.predict(X_test)\n",
        "\n",
        "# Calculate the Mean Absolute Error for KNN\n",
        "mae_knn = mean_absolute_error(y_true=y_test, y_pred=preds_knn)\n",
        "\n",
        "print(\"KNN Mean Absolute Error:\", mae_knn)"
      ],
      "metadata": {
        "id": "ElvZFrZFBkpr"
      },
      "execution_count": null,
      "outputs": []
    },
    {
      "cell_type": "code",
      "source": [
        "def reg_cost(method, actual, preds):\n",
        "    mae = mean_absolute_error(y_true=actual, y_pred=preds)\n",
        "    mse = mean_squared_error(y_true=actual, y_pred=preds)\n",
        "\n",
        "    print(f'Cost functions for the {method} regression is:')\n",
        "    print(f'Mean Square Error: {round(mse,2)}')\n",
        "    print(f'Mean Absolute Error: {round(mae,2)}\\n\\n')"
      ],
      "metadata": {
        "id": "j2x10_VIB_2c"
      },
      "execution_count": null,
      "outputs": []
    },
    {
      "cell_type": "code",
      "source": [
        "model_name = ['linear', 'Decision Tree', 'KNN']\n",
        "model_pred = [preds_lin, preds_tree, preds_knn]\n",
        "\n",
        "for x in range(len(model_pred)):\n",
        "\n",
        "    reg_cost(model_name[x],y_test, model_pred[x] )"
      ],
      "metadata": {
        "id": "oSt_pHNZCBa8"
      },
      "execution_count": null,
      "outputs": []
    }
  ]
}